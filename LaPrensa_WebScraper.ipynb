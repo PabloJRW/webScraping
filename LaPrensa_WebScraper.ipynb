{
 "cells": [
  {
   "cell_type": "code",
   "execution_count": 5,
   "id": "be1e2492",
   "metadata": {},
   "outputs": [],
   "source": [
    "import requests\n",
    "from bs4 import BeautifulSoup\n",
    "from selenium import webdriver\n",
    "from selenium.webdriver.chrome.service import Service\n",
    "from webdriver_manager.chrome import ChromeDriverManager\n",
    "from selenium.webdriver.common.by import By\n"
   ]
  },
  {
   "cell_type": "code",
   "execution_count": 6,
   "id": "0dcee705",
   "metadata": {},
   "outputs": [
    {
     "name": "stderr",
     "output_type": "stream",
     "text": [
      "\n",
      "\n",
      "====== WebDriver manager ======\n",
      "Current google-chrome version is 99.0.4844\n",
      "Get LATEST chromedriver version for 99.0.4844 google-chrome\n",
      "Driver [/home/pablo/.wdm/drivers/chromedriver/linux64/99.0.4844.51/chromedriver] found in cache\n"
     ]
    }
   ],
   "source": [
    "driver = webdriver.Chrome(service=Service(ChromeDriverManager().install()))\n",
    "# URL\n",
    "driver.get('http://prensa.com')"
   ]
  },
  {
   "cell_type": "code",
   "execution_count": 7,
   "id": "fa7c63c3",
   "metadata": {},
   "outputs": [
    {
     "ename": "AttributeError",
     "evalue": "'WebDriver' object has no attribute 'findElement'",
     "output_type": "error",
     "traceback": [
      "\u001b[0;31m---------------------------------------------------------------------------\u001b[0m",
      "\u001b[0;31mAttributeError\u001b[0m                            Traceback (most recent call last)",
      "\u001b[0;32m/tmp/ipykernel_7213/2786803571.py\u001b[0m in \u001b[0;36m<module>\u001b[0;34m\u001b[0m\n\u001b[1;32m      1\u001b[0m \u001b[0;31m# Barra de navegación -> [Locales, Judiciales, etc, ...]\u001b[0m\u001b[0;34m\u001b[0m\u001b[0;34m\u001b[0m\u001b[0;34m\u001b[0m\u001b[0m\n\u001b[0;32m----> 2\u001b[0;31m \u001b[0mnav\u001b[0m \u001b[0;34m=\u001b[0m \u001b[0mdriver\u001b[0m\u001b[0;34m.\u001b[0m\u001b[0mfindElement\u001b[0m\u001b[0;34m(\u001b[0m\u001b[0mBy\u001b[0m\u001b[0;34m.\u001b[0m\u001b[0mxpath\u001b[0m\u001b[0;34m,\u001b[0m \u001b[0;34m'//ul[@class=\"nav-bot-main\"]/li/a'\u001b[0m\u001b[0;34m)\u001b[0m\u001b[0;34m\u001b[0m\u001b[0;34m\u001b[0m\u001b[0m\n\u001b[0m",
      "\u001b[0;31mAttributeError\u001b[0m: 'WebDriver' object has no attribute 'findElement'"
     ]
    }
   ],
   "source": [
    "# Barra de navegación -> [Locales, Judiciales, etc, ...]\n",
    "nav = driver.findElement(By.xpath, '//ul[@class=\"nav-bot-main\"]/li/a')"
   ]
  },
  {
   "cell_type": "code",
   "execution_count": null,
   "id": "96234ec8",
   "metadata": {},
   "outputs": [],
   "source": [
    "sec = nav[0]  # Locales\n",
    "sec"
   ]
  },
  {
   "cell_type": "code",
   "execution_count": null,
   "id": "1b4471d7",
   "metadata": {},
   "outputs": [],
   "source": [
    "sec.click()"
   ]
  },
  {
   "cell_type": "code",
   "execution_count": null,
   "id": "41158ce9",
   "metadata": {},
   "outputs": [],
   "source": [
    "sec.findElement(By.className(\"story-box-right\"))"
   ]
  },
  {
   "cell_type": "code",
   "execution_count": null,
   "id": "5f36fe06",
   "metadata": {},
   "outputs": [],
   "source": [
    "#sec.find_elements(By.XPATH, './/div[@class=\"main-box-twocolumns horizontal\"]')"
   ]
  }
 ],
 "metadata": {
  "kernelspec": {
   "display_name": "Python 3 (ipykernel)",
   "language": "python",
   "name": "python3"
  },
  "language_info": {
   "codemirror_mode": {
    "name": "ipython",
    "version": 3
   },
   "file_extension": ".py",
   "mimetype": "text/x-python",
   "name": "python",
   "nbconvert_exporter": "python",
   "pygments_lexer": "ipython3",
   "version": "3.8.8"
  }
 },
 "nbformat": 4,
 "nbformat_minor": 5
}
